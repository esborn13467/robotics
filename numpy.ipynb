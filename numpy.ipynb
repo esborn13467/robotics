{
 "cells": [
  {
   "cell_type": "code",
   "execution_count": 18,
   "metadata": {},
   "outputs": [
    {
     "ename": "ModuleNotFoundError",
     "evalue": "No module named 'numpy'",
     "output_type": "error",
     "traceback": [
      "\u001b[1;31m---------------------------------------------------------------------------\u001b[0m",
      "\u001b[1;31mModuleNotFoundError\u001b[0m                       Traceback (most recent call last)",
      "Cell \u001b[1;32mIn[18], line 1\u001b[0m\n\u001b[1;32m----> 1\u001b[0m \u001b[39mimport\u001b[39;00m \u001b[39mnumpy\u001b[39;00m \u001b[39mas\u001b[39;00m \u001b[39mnp\u001b[39;00m\n\u001b[0;32m      3\u001b[0m \u001b[39mprint\u001b[39m(np\u001b[39m.\u001b[39marray_version_)\n\u001b[0;32m      7\u001b[0m a\u001b[39m=\u001b[39mnp\u001b[39m.\u001b[39marray(\u001b[39m6\u001b[39m)\n",
      "\u001b[1;31mModuleNotFoundError\u001b[0m: No module named 'numpy'"
     ]
    }
   ],
   "source": [
    "import numpy as np\n",
    "\n",
    "print(np.array_version_)\n",
    "\n",
    "\n",
    "\n",
    "a=np.array(6)\n",
    "b=np.array([2,6,8,5])\n",
    "c=np.array([[2,4,4,6],[6,6,7]])\n",
    "d=np.array([[[4,6,7],[4,6,8]]],[[[5,7,8],[6,7,8]]])\n",
    "\n",
    "\n",
    "print(\"zero dimentional:\" ,a)\n",
    "print(\"1-D:\" ,b)\n",
    "print(\"2-D:\" ,c)\n",
    "print(\"3-D:\" ,d)\n",
    "\n",
    "\n",
    "print(a.ndim)\n",
    "print(b.ndim)\n",
    "print(c.ndim)\n",
    "print(d.ndim)\n",
    "\n",
    "\n",
    "from numpy import random\n",
    "\n",
    "\n",
    "x = random.randint(100)\n",
    "y = random.rand()\n",
    "print(x)\n",
    "print(y)\n",
    "arr = random.randint(100, size = 4)\n",
    "print(arr)\n",
    "\n",
    "\n",
    "a=np.array(6)\n",
    "b=np.array([2,6,8,5])\n",
    "c=np.array([[2,4,4,6],[6,6,7]])\n",
    "d=np.array([[[4,6,7],[4,6,8]]],[[[5,7,8],[6,7,8]]])\n",
    "\n",
    "\n",
    "print(b[1])\n",
    "print(\"sum: \" ,b[2] + b[1])\n",
    "\n",
    "\n",
    "print(c[1,2])\n",
    "print(d[1,0,2])\n",
    "\n",
    "\n",
    "import matplotlib.pyplot as plt\n",
    "\n",
    "\n",
    "x = np.array([0,4])\n",
    "y = np.array([0,4])\n",
    "\n",
    "plt.plot(x,y)"
   ]
  }
 ],
 "metadata": {
  "kernelspec": {
   "display_name": "Python 3",
   "language": "python",
   "name": "python3"
  },
  "language_info": {
   "name": "python",
   "version": "3.11.1"
  },
  "orig_nbformat": 4
 },
 "nbformat": 4,
 "nbformat_minor": 2
}
