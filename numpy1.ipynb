{
 "cells": [
  {
   "cell_type": "code",
   "execution_count": null,
   "metadata": {},
   "outputs": [],
   "source": [
    "import matplotlib.pyplot as pyplot\n",
    "\n",
    "\n",
    "x=np.array([0,1,2,3,4])\n",
    "y=np.array([0,1,2,3,4])\n",
    "\n",
    "plt.plot(x,y,marker=\"o\")\n",
    "plt.title(\"Title\")"
   ]
  }
 ],
 "metadata": {
  "language_info": {
   "name": "python"
  },
  "orig_nbformat": 4
 },
 "nbformat": 4,
 "nbformat_minor": 2
}
