{
 "cells": [
  {
   "cell_type": "code",
   "execution_count": null,
   "metadata": {},
   "outputs": [
    {
     "ename": "",
     "evalue": "",
     "output_type": "error",
     "traceback": [
      "\u001b[1;31mRunning cells with 'c:\\Users\\Admin\\AppData\\Local\\Microsoft\\WindowsApps\\python3.10.exe' requires the ipykernel package.\n",
      "\u001b[1;31mRun the following command to install 'ipykernel' into the Python environment. \n",
      "\u001b[1;31mCommand: 'c:/Users/Admin/AppData/Local/Microsoft/WindowsApps/python3.10.exe -m pip install ipykernel -U --user --force-reinstall'"
     ]
    }
   ],
   "source": [
    "import pandas as pd\n",
    "print(pd.__version__)"
   ]
  },
  {
   "cell_type": "code",
   "execution_count": 2,
   "metadata": {},
   "outputs": [
    {
     "name": "stdout",
     "output_type": "stream",
     "text": [
      "1.5.3\n",
      "0    4\n",
      "1    5\n",
      "2    6\n",
      "3    7\n",
      "dtype: int64\n"
     ]
    }
   ],
   "source": [
    "import pandas as pd \n",
    "print (pd.__version__)\n",
    "#series in panda \n",
    "a=[4,5,6,7]\n",
    "table=pd.Series(a)\n",
    "print (table)\n"
   ]
  },
  {
   "cell_type": "code",
   "execution_count": 3,
   "metadata": {},
   "outputs": [
    {
     "name": "stdout",
     "output_type": "stream",
     "text": [
      "day1    NaN\n",
      "day2    NaN\n",
      "day3    NaN\n",
      "day4    NaN\n",
      "dtype: object\n"
     ]
    }
   ],
   "source": [
    "\n",
    "a={\n",
    "    \"new\":[4,5,6,7]\n",
    "}\n",
    "table=pd.Series (a,index =[\"day1\",\"day2\",\"day3\",\"day4\"])\n",
    "print (table)"
   ]
  },
  {
   "cell_type": "code",
   "execution_count": 4,
   "metadata": {},
   "outputs": [
    {
     "name": "stdout",
     "output_type": "stream",
     "text": [
      "new     [4, 5, 6]\n",
      "new1    [5, 6, 7]\n",
      "dtype: object\n"
     ]
    }
   ],
   "source": [
    "import pandas as pd\n",
    "a={\n",
    "    \"new\":[4,5,6],\n",
    "    \"new1\":[5,6,7]\n",
    "}\n",
    "data=pd.Series(a)\n",
    "print(data)"
   ]
  },
  {
   "cell_type": "code",
   "execution_count": 5,
   "metadata": {},
   "outputs": [
    {
     "name": "stdout",
     "output_type": "stream",
     "text": [
      "      new  month\n",
      "day1    4    Jan\n",
      "day2    5    Feb\n",
      "day3    6  March\n",
      "day4    7  April\n"
     ]
    }
   ],
   "source": [
    "a={\n",
    "    \n",
    "    \"new\":[4,5,6,7],\n",
    "    \"month\":[\"Jan\",\"Feb\",\"March\",\"April\"]}\n",
    "table=pd.DataFrame(a,index=[\"day1\",\"day2\",\"day3\",\"day4\"])\n",
    "print(table)"
   ]
  },
  {
   "cell_type": "code",
   "execution_count": 1,
   "metadata": {},
   "outputs": [
    {
     "ename": "ModuleNotFoundError",
     "evalue": "No module named 'matplotlib.pylot'",
     "output_type": "error",
     "traceback": [
      "\u001b[1;31m---------------------------------------------------------------------------\u001b[0m",
      "\u001b[1;31mModuleNotFoundError\u001b[0m                       Traceback (most recent call last)",
      "Cell \u001b[1;32mIn[1], line 2\u001b[0m\n\u001b[0;32m      1\u001b[0m \u001b[39mimport\u001b[39;00m \u001b[39mpandas\u001b[39;00m \u001b[39mas\u001b[39;00m \u001b[39mpd\u001b[39;00m\n\u001b[1;32m----> 2\u001b[0m \u001b[39mimport\u001b[39;00m \u001b[39mmatplotlib\u001b[39;00m\u001b[39m.\u001b[39;00m\u001b[39mpylot\u001b[39;00m \u001b[39mas\u001b[39;00m \u001b[39mplt\u001b[39;00m\n\u001b[0;32m      3\u001b[0m \u001b[39m# with open(\"data.csv\")as data:\u001b[39;00m\n\u001b[0;32m      4\u001b[0m \u001b[39m#     contents=data.read()\u001b[39;00m\n\u001b[0;32m      6\u001b[0m contents\u001b[39m=\u001b[39mpd\u001b[39m.\u001b[39mread_csv(\u001b[39m\"\u001b[39m\u001b[39mdata.csv\u001b[39m\u001b[39m\"\u001b[39m)\n",
      "\u001b[1;31mModuleNotFoundError\u001b[0m: No module named 'matplotlib.pylot'"
     ]
    }
   ],
   "source": [
    "import pandas as pd\n",
    "import matplotlib.pylot as plt\n",
    "# with open(\"data.csv\")as data:\n",
    "#     contents=data.read()\n",
    "\n",
    "contents=pd.read_csv(\"data.csv\")\n",
    "\n",
    "contents.plot()\n",
    "plt.show()\n",
    "\n",
    "print(contents )"
   ]
  }
 ],
 "metadata": {
  "kernelspec": {
   "display_name": "Python 3",
   "language": "python",
   "name": "python3"
  },
  "language_info": {
   "codemirror_mode": {
    "name": "ipython",
    "version": 3
   },
   "file_extension": ".py",
   "mimetype": "text/x-python",
   "name": "python",
   "nbconvert_exporter": "python",
   "pygments_lexer": "ipython3",
   "version": "3.10.10"
  },
  "orig_nbformat": 4
 },
 "nbformat": 4,
 "nbformat_minor": 2
}
